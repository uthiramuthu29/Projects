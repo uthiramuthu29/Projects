{
 "cells": [
  {
   "cell_type": "markdown",
   "metadata": {},
   "source": [
    "General Instructions before Running the Code:\n",
    "\n",
    "1. Download the Chrome driver which matches your Chrome Browser version.\n",
    "2. The path I've given in \"chrome_driver\" and \"download_file_path\" are my Local PC . So Kindly change those to your Local PC's Path.\n",
    "3. Ensure that the folder in \"download_file_path\" is empty before running, because it's been coded in the way it extracts the latest file downloaded."
   ]
  },
  {
   "cell_type": "code",
   "execution_count": null,
   "id": "5b550fb0",
   "metadata": {},
   "outputs": [],
   "source": [
    "import re\n",
    "import time\n",
    "import requests\n",
    "\n",
    "import numpy as np\n",
    "import pandas as pd\n",
    "import datetime as datetime\n",
    "\n",
    "from time import sleep\n",
    "from pytz import timezone\n",
    "from dateutil import parser\n",
    "from bs4 import BeautifulSoup\n",
    "from selenium import webdriver\n",
    "from webdriver_manager.chrome import ChromeDriverManager\n",
    "from selenium import webdriver\n",
    "from selenium.webdriver.common.by import By\n",
    "from selenium.webdriver.support.ui import WebDriverWait\n",
    "from selenium.webdriver.support import expected_conditions as EC\n",
    "import tkinter as tk\n",
    "from collections import namedtuple\n",
    "import os\n",
    "import zipfile\n",
    "import matplotlib.pyplot as plt\n",
    "import seaborn as sns\n",
    "\n",
    "pd.options.display.max_columns = None\n",
    "pd.options.display.max_rows = None"
   ]
  },
  {
   "cell_type": "code",
   "execution_count": null,
   "id": "37c25af2",
   "metadata": {},
   "outputs": [],
   "source": [
    "india_time = timezone('Asia/Kolkata')\n",
    "today      = datetime.datetime.now(india_time)\n",
    "days       = datetime.timedelta(1)\n",
    "yesterday = today - days\n",
    "\n",
    "run_time = pd.to_datetime(today.strftime(\"%Y/%m/%d %H:%M:%S\"))"
   ]
  },
  {
   "cell_type": "code",
   "execution_count": null,
   "id": "6a2b8069",
   "metadata": {},
   "outputs": [],
   "source": [
    "chrome_driver = r\"C:\\Users\\shanm\\Downloads\\chromedriver-win64\\chromedriver.exe\"\n",
    "download_file_path = r\"C:\\Users\\shanm\\Downloads\\Webscraping Save Folder\"\n",
    "\n",
    "\n",
    "prefs = {\n",
    "    \"download.default_directory\": download_file_path,\n",
    "    \"download.prompt_for_download\": False,\n",
    "    \"download.directory_upgrade\": True\n",
    "    }\n",
    "options = webdriver.ChromeOptions()\n",
    "options.add_argument(\"--disable-infobars\")\n",
    "options.add_argument(\"start-maximized\")\n",
    "options.add_argument(\"--disable-extensions\")\n",
    "options.add_argument(\"--disable-notifications\")\n",
    "options.add_argument('--ignore-certificate-errors')\n",
    "options.add_experimental_option('prefs', prefs)\n",
    "\n",
    "\n"
   ]
  },
  {
   "cell_type": "code",
   "execution_count": null,
   "id": "47ca1bb5",
   "metadata": {},
   "outputs": [],
   "source": [
    "# CREATING THE DRIVER HERE\n",
    "driver = webdriver.Chrome(options=options)\n",
    "driver.maximize_window()\n",
    "driver.get(\"https://datadashboard.fda.gov/ora/index.htm\")\n",
    "complaince_dashboard_btn = driver.find_element(\"id\", \"cd-h1\")\n",
    "time.sleep(3)\n",
    "complaince_dashboard_btn.click()"
   ]
  },
  {
   "cell_type": "code",
   "execution_count": null,
   "id": "8bd9c6e7",
   "metadata": {},
   "outputs": [],
   "source": [
    "import_summary_btn = driver.find_element(\"id\", \"card-4\")\n",
    "time.sleep(3)\n",
    "import_summary_btn.click()\n"
   ]
  },
  {
   "cell_type": "code",
   "execution_count": null,
   "id": "287515d2",
   "metadata": {},
   "outputs": [],
   "source": [
    "shipment_details_btn = driver.find_element(\"id\", \"download2\")\n",
    "element = WebDriverWait(driver, 10).until(EC.element_to_be_clickable(shipment_details_btn))\n",
    "\n",
    "# Scroll to the element using JavaScript\n",
    "driver.execute_script(\"arguments[0].scrollIntoView();\", element)\n",
    "time.sleep(15)\n",
    "element.click()"
   ]
  },
  {
   "cell_type": "code",
   "execution_count": null,
   "id": "a691399b",
   "metadata": {},
   "outputs": [],
   "source": [
    "current_url = driver.current_url\n",
    "print(\"Current Page URL:\", current_url)"
   ]
  },
  {
   "cell_type": "code",
   "execution_count": null,
   "id": "80d5ed51",
   "metadata": {},
   "outputs": [],
   "source": [
    "window_handles = driver.window_handles\n",
    "driver.switch_to.window(window_handles[1])\n",
    "\n",
    "print(\"Current Page URL in the second tab:\", driver.current_url)"
   ]
  },
  {
   "cell_type": "code",
   "execution_count": null,
   "id": "7fb6b404",
   "metadata": {
    "scrolled": true
   },
   "outputs": [],
   "source": [
    "import tkinter as tk\n",
    "from collections import namedtuple\n",
    "\n",
    "\n",
    "\n",
    "a_tag = None\n",
    "def on_button_click(button_number):\n",
    "    global a_tag\n",
    "    try:        \n",
    "\n",
    "        if button_number == 1:\n",
    "            print(\"Button 1 Clicked! Run code for Button 1.\")\n",
    "            element = WebDriverWait(driver, 10).until(\n",
    "                EC.visibility_of_element_located((By.ID, \"2023_1\"))\n",
    "            )\n",
    "            a_tag = element.text\n",
    "            selected_button.set(1)\n",
    "\n",
    "        elif button_number == 2:\n",
    "            print(\"Button 2 Clicked! Run code for Button 2.\")\n",
    "            element = WebDriverWait(driver, 10).until(\n",
    "                EC.visibility_of_element_located((By.ID, \"2023_2\"))\n",
    "            )\n",
    "            a_tag = element.text\n",
    "            selected_button.set(2)\n",
    "            \n",
    "        elif button_number == 3:\n",
    "            print(\"Button 3 Clicked! Run code for Button 3.\")\n",
    "\n",
    "            element = WebDriverWait(driver, 10).until(\n",
    "                EC.visibility_of_element_located((By.ID, \"2023_3\"))\n",
    "            )\n",
    "            a_tag = element.text\n",
    "            selected_button.set(3)\n",
    "            \n",
    "        elif button_number == 4:\n",
    "            print(\"Button 4 Clicked! Run code for Button 4.\")\n",
    "            element = WebDriverWait(driver, 10).until(\n",
    "                EC.visibility_of_element_located((By.ID, \"2023_4\"))\n",
    "            )\n",
    "            a_tag = element.text\n",
    "            selected_button.set(4)\n",
    "            \n",
    "        elif button_number == 5:\n",
    "            print(\"Button 5 Clicked! Run code for Button 5.\")\n",
    "            element = WebDriverWait(driver, 10).until(\n",
    "                EC.visibility_of_element_located((By.ID, \"2023_5\"))\n",
    "            )\n",
    "            a_tag = element.text\n",
    "            selected_button.set(5)\n",
    "            \n",
    "        elif button_number == 6:\n",
    "            print(\"Button 6 Clicked! Run code for Button 6.\")\n",
    "            element = WebDriverWait(driver, 10).until(\n",
    "                EC.visibility_of_element_located((By.ID, \"2023_6\"))\n",
    "            )\n",
    "            a_tag = element.text\n",
    "            selected_button.set(6)\n",
    "            \n",
    "        elif button_number == 7:\n",
    "            print(\"Button 7 Clicked! Run code for Button 7.\")\n",
    "            element = WebDriverWait(driver, 10).until(\n",
    "                EC.visibility_of_element_located((By.ID, \"2023_7\"))\n",
    "            )\n",
    "            a_tag = element.text\n",
    "            selected_button.set(7)\n",
    "            \n",
    "        elif button_number == 8:\n",
    "            print(\"Button 8 Clicked! Run code for Button 8.\")\n",
    "            element = WebDriverWait(driver, 10).until(\n",
    "                EC.visibility_of_element_located((By.ID, \"2023_8\"))\n",
    "            )\n",
    "            a_tag = element.text\n",
    "            selected_button.set(8)\n",
    "            \n",
    "        elif button_number == 9:\n",
    "            print(\"Button 9 Clicked! Run code for Button 9.\")\n",
    "            element = WebDriverWait(driver, 10).until(\n",
    "                EC.visibility_of_element_located((By.ID, \"2023_9\"))\n",
    "            )\n",
    "            a_tag = element.text\n",
    "            selected_button.set(9)\n",
    "            \n",
    "        elif button_number == 10:\n",
    "            print(\"Button 10 Clicked! Run code for Button 10.\")\n",
    "            element = WebDriverWait(driver, 10).until(\n",
    "                EC.visibility_of_element_located((By.ID, \"2023_10\"))\n",
    "            )\n",
    "            a_tag = element.text\n",
    "            selected_button.set(10)\n",
    "\n",
    "        # Closes the Tkinter window immediately after button click\n",
    "        root.destroy()\n",
    "\n",
    "    except Exception as e:\n",
    "        print(f\"An error occurred: {e}\")\n",
    "\n",
    "\n",
    "    if a_tag is not None:\n",
    "        print(f\"a_tag: {a_tag}\")\n",
    "\n",
    "# Create the main window\n",
    "root = tk.Tk()\n",
    "root.attributes(\"-topmost\", True)\n",
    "\n",
    "root.title(\"Choose a Month to Download\")\n",
    "\n",
    "\n",
    "heading_label = tk.Label(root, text=\"Choose any month of 2023 to download\", font=(\"Helvetica\", 15, \"bold\"))\n",
    "heading_label.grid(row=0, column=0, columnspan=4, pady=10)\n",
    "\n",
    "# Set the window size and position it in the center of the screen\n",
    "window_width = 400\n",
    "window_height = 300\n",
    "screen_width = root.winfo_screenwidth()\n",
    "screen_height = root.winfo_screenheight()\n",
    "x_position = (screen_width - window_width) // 2\n",
    "y_position = (screen_height - window_height) // 2\n",
    "\n",
    "root.geometry(f\"{window_width}x{window_height}+{x_position}+{y_position}\")\n",
    "\n",
    "for i in range(3):\n",
    "    root.columnconfigure(i, weight=1, minsize=75)\n",
    "    root.rowconfigure(i, weight=0, minsize=50)\n",
    "\n",
    "button_texts = [\n",
    "    \"January\", \"February\", \"March\", \"April\", \"May\",\n",
    "    \"June\", \"July\", \"August\", \"September\", \"October\"\n",
    "]\n",
    "\n",
    "CustomFont = namedtuple('CustomFont', ['family', 'size'])\n",
    "custom_font = CustomFont(family=\"Helvetica\", size=14)\n",
    "\n",
    "\n",
    "button_style = {\n",
    "    'font': (custom_font.family, custom_font.size),\n",
    "    'foreground': 'black',\n",
    "    'background': '#3498db',\n",
    "    'borderwidth': 5,\n",
    "    'relief': 'ridge',\n",
    "}\n",
    "\n",
    "# Creating ten button widgets in a flexible grid\n",
    "for i in range(1, 11):\n",
    "    button_text = button_texts[i-1] if i <= 10 else \"Full Row Button\"\n",
    "    button = tk.Button(root, text=button_text, command=lambda i=i: on_button_click(i))\n",
    "\n",
    "\n",
    "    for style, value in button_style.items():\n",
    "        button[style] = value\n",
    "\n",
    "    if i == 10:\n",
    "        button.grid(row=5, column=0, columnspan=3, sticky=\"nsew\", padx=5, pady=5)  # Full row for the 10th button\n",
    "    else:\n",
    "        button.grid(row=(i-1)//3 + 1, column=(i-1)%3, columnspan=1, sticky=\"nsew\", padx=5, pady=5)\n",
    "\n",
    "\n",
    "\n",
    "\n",
    "\n",
    "# Variable to store the selected button\n",
    "selected_button = tk.IntVar()\n",
    "\n",
    "\n",
    "# Start the Tkinter event loop\n",
    "root.mainloop()\n"
   ]
  },
  {
   "cell_type": "code",
   "execution_count": null,
   "id": "5b27cb43",
   "metadata": {},
   "outputs": [],
   "source": [
    "download_url = \"https://datadashboard.fda.gov/content/sdata/\" + a_tag"
   ]
  },
  {
   "cell_type": "code",
   "execution_count": null,
   "id": "41118f49",
   "metadata": {},
   "outputs": [],
   "source": [
    "download_url"
   ]
  },
  {
   "cell_type": "code",
   "execution_count": null,
   "id": "d161af8c",
   "metadata": {},
   "outputs": [],
   "source": [
    "new_tab_script = f\"window.open('{download_url}', '_blank');\"\n",
    "driver.execute_script(new_tab_script)\n",
    "\n",
    "# Getting the handles of all open tabs/windows\n",
    "window_handles = driver.window_handles\n",
    "\n",
    "# Switching to the new tab (index 1 in a zero-based index)\n",
    "new_tab_handle = window_handles[2]\n",
    "driver.switch_to.window(new_tab_handle)"
   ]
  },
  {
   "cell_type": "code",
   "execution_count": null,
   "id": "46075056",
   "metadata": {},
   "outputs": [],
   "source": [
    "\n",
    "def wait_for_download(directory, timeout=1000):\n",
    "    start_time = time.time()\n",
    "    while time.time() - start_time < timeout:\n",
    "        files = [f for f in os.listdir(directory) if f.endswith('.zip')]\n",
    "        if files:\n",
    "            return max(files, key=lambda f: os.path.getctime(os.path.join(directory, f)))\n",
    "        time.sleep(1)\n",
    "    raise TimeoutError(\"Download timed out\")\n",
    "\n",
    "def extract_zip(zip_file, extract_path):\n",
    "    with zipfile.ZipFile(zip_file, 'r') as zip_ref:\n",
    "        zip_ref.extractall(extract_path)\n",
    "\n",
    "def load_csv_files(directory):\n",
    "    files = [f for f in os.listdir(directory) if f.endswith('.csv')]\n",
    "    dfs = [pd.read_csv(os.path.join(directory, file)) for file in files]\n",
    "    return pd.concat(dfs, ignore_index=True)\n",
    "\n",
    "\n",
    "download_directory = download_file_path\n",
    "\n",
    "# Waits for the download to complete\n",
    "latest_zip_file = wait_for_download(download_directory)\n",
    "\n",
    "# Extracts the latest downloaded zip file\n",
    "extracted_path = os.path.join(download_directory, 'extracted')\n",
    "\n",
    "os.makedirs(extracted_path, exist_ok=True)\n",
    "extract_zip(os.path.join(download_directory, latest_zip_file), extracted_path)\n",
    "print(f\"Files Extracted! Extracted Location: {extracted_path}\")\n",
    "\n",
    "\n",
    "# Loads all CSV files into a single DataFrame\n",
    "final_dataframe = load_csv_files(extracted_path)\n",
    "\n",
    "# Now 'final_dataframe' contains all the data from the downloaded and extracted CSV files\n",
    "\n",
    "driver.quit()\n"
   ]
  },
  {
   "cell_type": "code",
   "execution_count": null,
   "id": "02546140",
   "metadata": {},
   "outputs": [],
   "source": [
    "final_dataframe.head()"
   ]
  },
  {
   "cell_type": "code",
   "execution_count": null,
   "id": "96b799c1",
   "metadata": {},
   "outputs": [],
   "source": [
    "final_dataframe.info()"
   ]
  },
  {
   "cell_type": "code",
   "execution_count": null,
   "id": "6bbc1b9a",
   "metadata": {},
   "outputs": [],
   "source": [
    "final_dataframe.isnull().sum()"
   ]
  },
  {
   "cell_type": "code",
   "execution_count": null,
   "id": "af78e4b1",
   "metadata": {},
   "outputs": [],
   "source": [
    "final_dataframe.nunique()"
   ]
  },
  {
   "cell_type": "code",
   "execution_count": null,
   "id": "ce8d0467",
   "metadata": {},
   "outputs": [],
   "source": [
    "final_dataframe['Country Of Origin'].unique()"
   ]
  },
  {
   "cell_type": "code",
   "execution_count": null,
   "id": "7e735a92",
   "metadata": {},
   "outputs": [],
   "source": [
    "final_dataframe.shape"
   ]
  },
  {
   "cell_type": "code",
   "execution_count": null,
   "id": "b7549edd",
   "metadata": {},
   "outputs": [],
   "source": [
    "specific_column = 'Country Of Origin'\n",
    "final_dataframe.dropna(subset=[specific_column], inplace=True)"
   ]
  },
  {
   "cell_type": "code",
   "execution_count": null,
   "id": "86c05ab4",
   "metadata": {},
   "outputs": [],
   "source": [
    "final_dataframe.shape"
   ]
  },
  {
   "cell_type": "code",
   "execution_count": null,
   "id": "6810dfa8",
   "metadata": {},
   "outputs": [],
   "source": [
    "top_categories = final_dataframe['Country Of Origin'].value_counts().head(5)\n",
    "\n",
    "# Create a countplot for the top 5 values\n",
    "sns.countplot(x='Country Of Origin', data=final_dataframe, order=top_categories.index)\n",
    "\n",
    "plt.show()"
   ]
  },
  {
   "cell_type": "code",
   "execution_count": null,
   "metadata": {},
   "outputs": [],
   "source": []
  }
 ],
 "metadata": {
  "kernelspec": {
   "display_name": "Python 3 (ipykernel)",
   "language": "python",
   "name": "python3"
  },
  "language_info": {
   "codemirror_mode": {
    "name": "ipython",
    "version": 3
   },
   "file_extension": ".py",
   "mimetype": "text/x-python",
   "name": "python",
   "nbconvert_exporter": "python",
   "pygments_lexer": "ipython3",
   "version": "3.11.5"
  }
 },
 "nbformat": 4,
 "nbformat_minor": 5
}
