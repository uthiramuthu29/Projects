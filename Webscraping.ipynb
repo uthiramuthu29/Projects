{
 "cells": [
  {
   "cell_type": "markdown",
   "metadata": {},
   "source": [
    "General Instructions before Running the Code:\n",
    "\n",
    "1. Download the Chrome driver which matches your Chrome Browser version.\n",
    "2. The path I've given in \"chrome_driver\" and \"download_file_path\" are my Local PC . So Kindly change those to your Local PC's Path.\n",
    "3. Ensure that the folder in \"download_file_path\" is empty before running, because it's been coded in the way it extracts the latest file downloaded."
   ]
  },
  {
   "cell_type": "code",
   "execution_count": 1,
   "id": "5b550fb0",
   "metadata": {},
   "outputs": [],
   "source": [
    "import re\n",
    "import time\n",
    "import requests\n",
    "\n",
    "import numpy as np\n",
    "import pandas as pd\n",
    "import datetime as datetime\n",
    "\n",
    "from time import sleep\n",
    "from pytz import timezone\n",
    "from dateutil import parser\n",
    "from bs4 import BeautifulSoup\n",
    "from selenium import webdriver\n",
    "from webdriver_manager.chrome import ChromeDriverManager\n",
    "from selenium import webdriver\n",
    "from selenium.webdriver.common.by import By\n",
    "from selenium.webdriver.support.ui import WebDriverWait\n",
    "from selenium.webdriver.support import expected_conditions as EC\n",
    "import tkinter as tk\n",
    "from collections import namedtuple\n",
    "import os\n",
    "import zipfile\n",
    "import matplotlib.pyplot as plt\n",
    "import seaborn as sns\n",
    "\n",
    "pd.options.display.max_columns = None\n",
    "pd.options.display.max_rows = None"
   ]
  },
  {
   "cell_type": "code",
   "execution_count": 2,
   "id": "37c25af2",
   "metadata": {},
   "outputs": [],
   "source": [
    "india_time = timezone('Asia/Kolkata')\n",
    "today      = datetime.datetime.now(india_time)\n",
    "days       = datetime.timedelta(1)\n",
    "yesterday = today - days\n",
    "\n",
    "run_time = pd.to_datetime(today.strftime(\"%Y/%m/%d %H:%M:%S\"))"
   ]
  },
  {
   "cell_type": "code",
   "execution_count": 3,
   "id": "6a2b8069",
   "metadata": {},
   "outputs": [],
   "source": [
    "chrome_driver = r\"C:\\Users\\shanm\\Downloads\\chromedriver-win64\\chromedriver.exe\"\n",
    "download_file_path = r\"C:\\Users\\shanm\\Downloads\\Webscraping Save Folder\"\n",
    "\n",
    "\n",
    "prefs = {\n",
    "    \"download.default_directory\": download_file_path,\n",
    "    \"download.prompt_for_download\": False,\n",
    "    \"download.directory_upgrade\": True\n",
    "    }\n",
    "options = webdriver.ChromeOptions()\n",
    "options.add_argument(\"--disable-infobars\")\n",
    "options.add_argument(\"start-maximized\")\n",
    "options.add_argument(\"--disable-extensions\")\n",
    "options.add_argument(\"--disable-notifications\")\n",
    "options.add_argument('--ignore-certificate-errors')\n",
    "options.add_experimental_option('prefs', prefs)\n",
    "\n",
    "\n"
   ]
  },
  {
   "cell_type": "code",
   "execution_count": 4,
   "id": "47ca1bb5",
   "metadata": {},
   "outputs": [],
   "source": [
    "# CREATING THE DRIVER HERE\n",
    "driver = webdriver.Chrome(options=options)\n",
    "driver.maximize_window()\n",
    "driver.get(\"https://datadashboard.fda.gov/ora/index.htm\")\n",
    "complaince_dashboard_btn = driver.find_element(\"id\", \"cd-h1\")\n",
    "time.sleep(3)\n",
    "complaince_dashboard_btn.click()"
   ]
  },
  {
   "cell_type": "code",
   "execution_count": 5,
   "id": "8bd9c6e7",
   "metadata": {},
   "outputs": [],
   "source": [
    "import_summary_btn = driver.find_element(\"id\", \"card-4\")\n",
    "time.sleep(3)\n",
    "import_summary_btn.click()\n"
   ]
  },
  {
   "cell_type": "code",
   "execution_count": 6,
   "id": "287515d2",
   "metadata": {},
   "outputs": [],
   "source": [
    "shipment_details_btn = driver.find_element(\"id\", \"download2\")\n",
    "element = WebDriverWait(driver, 10).until(EC.element_to_be_clickable(shipment_details_btn))\n",
    "\n",
    "# Scroll to the element using JavaScript\n",
    "driver.execute_script(\"arguments[0].scrollIntoView();\", element)\n",
    "time.sleep(15)\n",
    "element.click()"
   ]
  },
  {
   "cell_type": "code",
   "execution_count": 7,
   "id": "a691399b",
   "metadata": {},
   "outputs": [
    {
     "name": "stdout",
     "output_type": "stream",
     "text": [
      "Current Page URL: https://datadashboard.fda.gov/ora/cd/impsummary.htm\n"
     ]
    }
   ],
   "source": [
    "current_url = driver.current_url\n",
    "print(\"Current Page URL:\", current_url)"
   ]
  },
  {
   "cell_type": "code",
   "execution_count": 8,
   "id": "80d5ed51",
   "metadata": {},
   "outputs": [
    {
     "name": "stdout",
     "output_type": "stream",
     "text": [
      "Current Page URL in the second tab: https://datadashboard.fda.gov/ora/cd/imports-shipment-details.htm\n"
     ]
    }
   ],
   "source": [
    "window_handles = driver.window_handles\n",
    "driver.switch_to.window(window_handles[1])\n",
    "\n",
    "print(\"Current Page URL in the second tab:\", driver.current_url)"
   ]
  },
  {
   "cell_type": "code",
   "execution_count": 9,
   "id": "7fb6b404",
   "metadata": {
    "scrolled": true
   },
   "outputs": [
    {
     "name": "stdout",
     "output_type": "stream",
     "text": [
      "Button 6 Clicked! Run code for Button 6.\n",
      "a_tag: Shipment-Details-2023-06.zip\n"
     ]
    }
   ],
   "source": [
    "import tkinter as tk\n",
    "from collections import namedtuple\n",
    "\n",
    "\n",
    "\n",
    "a_tag = None\n",
    "def on_button_click(button_number):\n",
    "    global a_tag\n",
    "    try:        \n",
    "\n",
    "        if button_number == 1:\n",
    "            print(\"Button 1 Clicked! Run code for Button 1.\")\n",
    "            element = WebDriverWait(driver, 10).until(\n",
    "                EC.visibility_of_element_located((By.ID, \"2023_1\"))\n",
    "            )\n",
    "            a_tag = element.text\n",
    "            selected_button.set(1)\n",
    "\n",
    "        elif button_number == 2:\n",
    "            print(\"Button 2 Clicked! Run code for Button 2.\")\n",
    "            element = WebDriverWait(driver, 10).until(\n",
    "                EC.visibility_of_element_located((By.ID, \"2023_2\"))\n",
    "            )\n",
    "            a_tag = element.text\n",
    "            selected_button.set(2)\n",
    "            \n",
    "        elif button_number == 3:\n",
    "            print(\"Button 3 Clicked! Run code for Button 3.\")\n",
    "\n",
    "            element = WebDriverWait(driver, 10).until(\n",
    "                EC.visibility_of_element_located((By.ID, \"2023_3\"))\n",
    "            )\n",
    "            a_tag = element.text\n",
    "            selected_button.set(3)\n",
    "            \n",
    "        elif button_number == 4:\n",
    "            print(\"Button 4 Clicked! Run code for Button 4.\")\n",
    "            element = WebDriverWait(driver, 10).until(\n",
    "                EC.visibility_of_element_located((By.ID, \"2023_4\"))\n",
    "            )\n",
    "            a_tag = element.text\n",
    "            selected_button.set(4)\n",
    "            \n",
    "        elif button_number == 5:\n",
    "            print(\"Button 5 Clicked! Run code for Button 5.\")\n",
    "            element = WebDriverWait(driver, 10).until(\n",
    "                EC.visibility_of_element_located((By.ID, \"2023_5\"))\n",
    "            )\n",
    "            a_tag = element.text\n",
    "            selected_button.set(5)\n",
    "            \n",
    "        elif button_number == 6:\n",
    "            print(\"Button 6 Clicked! Run code for Button 6.\")\n",
    "            element = WebDriverWait(driver, 10).until(\n",
    "                EC.visibility_of_element_located((By.ID, \"2023_6\"))\n",
    "            )\n",
    "            a_tag = element.text\n",
    "            selected_button.set(6)\n",
    "            \n",
    "        elif button_number == 7:\n",
    "            print(\"Button 7 Clicked! Run code for Button 7.\")\n",
    "            element = WebDriverWait(driver, 10).until(\n",
    "                EC.visibility_of_element_located((By.ID, \"2023_7\"))\n",
    "            )\n",
    "            a_tag = element.text\n",
    "            selected_button.set(7)\n",
    "            \n",
    "        elif button_number == 8:\n",
    "            print(\"Button 8 Clicked! Run code for Button 8.\")\n",
    "            element = WebDriverWait(driver, 10).until(\n",
    "                EC.visibility_of_element_located((By.ID, \"2023_8\"))\n",
    "            )\n",
    "            a_tag = element.text\n",
    "            selected_button.set(8)\n",
    "            \n",
    "        elif button_number == 9:\n",
    "            print(\"Button 9 Clicked! Run code for Button 9.\")\n",
    "            element = WebDriverWait(driver, 10).until(\n",
    "                EC.visibility_of_element_located((By.ID, \"2023_9\"))\n",
    "            )\n",
    "            a_tag = element.text\n",
    "            selected_button.set(9)\n",
    "            \n",
    "        elif button_number == 10:\n",
    "            print(\"Button 10 Clicked! Run code for Button 10.\")\n",
    "            element = WebDriverWait(driver, 10).until(\n",
    "                EC.visibility_of_element_located((By.ID, \"2023_10\"))\n",
    "            )\n",
    "            a_tag = element.text\n",
    "            selected_button.set(10)\n",
    "\n",
    "        # Closes the Tkinter window immediately after button click\n",
    "        root.destroy()\n",
    "\n",
    "    except Exception as e:\n",
    "        print(f\"An error occurred: {e}\")\n",
    "\n",
    "\n",
    "    if a_tag is not None:\n",
    "        print(f\"a_tag: {a_tag}\")\n",
    "\n",
    "# Create the main window\n",
    "root = tk.Tk()\n",
    "root.attributes(\"-topmost\", True)\n",
    "\n",
    "root.title(\"Choose a Month to Download\")\n",
    "\n",
    "\n",
    "heading_label = tk.Label(root, text=\"Choose any month of 2023 to download\", font=(\"Helvetica\", 15, \"bold\"))\n",
    "heading_label.grid(row=0, column=0, columnspan=4, pady=10)\n",
    "\n",
    "# Set the window size and position it in the center of the screen\n",
    "window_width = 400\n",
    "window_height = 300\n",
    "screen_width = root.winfo_screenwidth()\n",
    "screen_height = root.winfo_screenheight()\n",
    "x_position = (screen_width - window_width) // 2\n",
    "y_position = (screen_height - window_height) // 2\n",
    "\n",
    "root.geometry(f\"{window_width}x{window_height}+{x_position}+{y_position}\")\n",
    "\n",
    "for i in range(3):\n",
    "    root.columnconfigure(i, weight=1, minsize=75)\n",
    "    root.rowconfigure(i, weight=0, minsize=50)\n",
    "\n",
    "button_texts = [\n",
    "    \"January\", \"February\", \"March\", \"April\", \"May\",\n",
    "    \"June\", \"July\", \"August\", \"September\", \"October\"\n",
    "]\n",
    "\n",
    "CustomFont = namedtuple('CustomFont', ['family', 'size'])\n",
    "custom_font = CustomFont(family=\"Helvetica\", size=14)\n",
    "\n",
    "\n",
    "button_style = {\n",
    "    'font': (custom_font.family, custom_font.size),\n",
    "    'foreground': 'black',\n",
    "    'background': '#3498db',\n",
    "    'borderwidth': 5,\n",
    "    'relief': 'ridge',\n",
    "}\n",
    "\n",
    "# Creating ten button widgets in a flexible grid\n",
    "for i in range(1, 11):\n",
    "    button_text = button_texts[i-1] if i <= 10 else \"Full Row Button\"\n",
    "    button = tk.Button(root, text=button_text, command=lambda i=i: on_button_click(i))\n",
    "\n",
    "\n",
    "    for style, value in button_style.items():\n",
    "        button[style] = value\n",
    "\n",
    "    if i == 10:\n",
    "        button.grid(row=5, column=0, columnspan=3, sticky=\"nsew\", padx=5, pady=5)  # Full row for the 10th button\n",
    "    else:\n",
    "        button.grid(row=(i-1)//3 + 1, column=(i-1)%3, columnspan=1, sticky=\"nsew\", padx=5, pady=5)\n",
    "\n",
    "\n",
    "\n",
    "\n",
    "\n",
    "# Variable to store the selected button\n",
    "selected_button = tk.IntVar()\n",
    "\n",
    "\n",
    "# Start the Tkinter event loop\n",
    "root.mainloop()\n"
   ]
  },
  {
   "cell_type": "code",
   "execution_count": 10,
   "id": "5b27cb43",
   "metadata": {},
   "outputs": [],
   "source": [
    "download_url = \"https://datadashboard.fda.gov/content/sdata/\" + a_tag"
   ]
  },
  {
   "cell_type": "code",
   "execution_count": 11,
   "id": "41118f49",
   "metadata": {},
   "outputs": [
    {
     "data": {
      "text/plain": [
       "'https://datadashboard.fda.gov/content/sdata/Shipment-Details-2023-06.zip'"
      ]
     },
     "execution_count": 11,
     "metadata": {},
     "output_type": "execute_result"
    }
   ],
   "source": [
    "download_url"
   ]
  },
  {
   "cell_type": "code",
   "execution_count": 12,
   "id": "d161af8c",
   "metadata": {},
   "outputs": [],
   "source": [
    "new_tab_script = f\"window.open('{download_url}', '_blank');\"\n",
    "driver.execute_script(new_tab_script)\n",
    "\n",
    "# Getting the handles of all open tabs/windows\n",
    "window_handles = driver.window_handles\n",
    "\n",
    "# Switching to the new tab (index 1 in a zero-based index)\n",
    "new_tab_handle = window_handles[2]\n",
    "driver.switch_to.window(new_tab_handle)"
   ]
  },
  {
   "cell_type": "code",
   "execution_count": 13,
   "id": "46075056",
   "metadata": {},
   "outputs": [
    {
     "name": "stdout",
     "output_type": "stream",
     "text": [
      "Files Extracted! Extracted Location: C:\\Users\\shanm\\Downloads\\Webscraping Save Folder\\extracted\n"
     ]
    }
   ],
   "source": [
    "\n",
    "def wait_for_download(directory, timeout=1000):\n",
    "    start_time = time.time()\n",
    "    while time.time() - start_time < timeout:\n",
    "        files = [f for f in os.listdir(directory) if f.endswith('.zip')]\n",
    "        if files:\n",
    "            return max(files, key=lambda f: os.path.getctime(os.path.join(directory, f)))\n",
    "        time.sleep(1)\n",
    "    raise TimeoutError(\"Download timed out\")\n",
    "\n",
    "def extract_zip(zip_file, extract_path):\n",
    "    with zipfile.ZipFile(zip_file, 'r') as zip_ref:\n",
    "        zip_ref.extractall(extract_path)\n",
    "\n",
    "def load_csv_files(directory):\n",
    "    files = [f for f in os.listdir(directory) if f.endswith('.csv')]\n",
    "    dfs = [pd.read_csv(os.path.join(directory, file)) for file in files]\n",
    "    return pd.concat(dfs, ignore_index=True)\n",
    "\n",
    "\n",
    "download_directory = download_file_path\n",
    "\n",
    "# Waits for the download to complete\n",
    "latest_zip_file = wait_for_download(download_directory)\n",
    "\n",
    "# Extracts the latest downloaded zip file\n",
    "extracted_path = os.path.join(download_directory, 'extracted')\n",
    "\n",
    "os.makedirs(extracted_path, exist_ok=True)\n",
    "extract_zip(os.path.join(download_directory, latest_zip_file), extracted_path)\n",
    "print(f\"Files Extracted! Extracted Location: {extracted_path}\")\n",
    "\n",
    "\n",
    "# Loads all CSV files into a single DataFrame\n",
    "final_dataframe = load_csv_files(extracted_path)\n",
    "\n",
    "# Now 'final_dataframe' contains all the data from the downloaded and extracted CSV files\n",
    "\n",
    "driver.quit()\n"
   ]
  },
  {
   "cell_type": "code",
   "execution_count": 14,
   "id": "02546140",
   "metadata": {},
   "outputs": [
    {
     "data": {
      "text/html": [
       "<div>\n",
       "<style scoped>\n",
       "    .dataframe tbody tr th:only-of-type {\n",
       "        vertical-align: middle;\n",
       "    }\n",
       "\n",
       "    .dataframe tbody tr th {\n",
       "        vertical-align: top;\n",
       "    }\n",
       "\n",
       "    .dataframe thead th {\n",
       "        text-align: right;\n",
       "    }\n",
       "</style>\n",
       "<table border=\"1\" class=\"dataframe\">\n",
       "  <thead>\n",
       "    <tr style=\"text-align: right;\">\n",
       "      <th></th>\n",
       "      <th>Entry/DOC/Line</th>\n",
       "      <th>Arrival Date</th>\n",
       "      <th>Submission Date</th>\n",
       "      <th>Port of Entry Distrct Abrvtn</th>\n",
       "      <th>Country Of Origin</th>\n",
       "      <th>Product Code</th>\n",
       "      <th>Product Code Description</th>\n",
       "      <th>Manufacturer FEI Number</th>\n",
       "      <th>Manufacturer Legal Name</th>\n",
       "      <th>Manufacturer Line1 Address</th>\n",
       "      <th>Manufacturer Line2 Address</th>\n",
       "      <th>Manufacturer City Name</th>\n",
       "      <th>Manufacturer ISO Country Code</th>\n",
       "      <th>Filer FEI Number</th>\n",
       "      <th>Filer Legal Name</th>\n",
       "      <th>Filer Line1 Address</th>\n",
       "      <th>Filer Line2 Address</th>\n",
       "      <th>Filer City Name</th>\n",
       "      <th>Filer State Code</th>\n",
       "      <th>Filer County Code</th>\n",
       "      <th>Filer Zip Code</th>\n",
       "      <th>Filer ISO Country Code</th>\n",
       "      <th>Final Disposition Activity Description</th>\n",
       "      <th>Final Disposition Activity Date</th>\n",
       "    </tr>\n",
       "  </thead>\n",
       "  <tbody>\n",
       "    <tr>\n",
       "      <th>0</th>\n",
       "      <td>224-4268585-9/21/1</td>\n",
       "      <td>2023/06/06 08:00:00</td>\n",
       "      <td>2023/06/02 00:00:00</td>\n",
       "      <td>DWCI</td>\n",
       "      <td>TH</td>\n",
       "      <td>16AEE45</td>\n",
       "      <td>TUNA (ALBACORE, YELLOWFIN, BLUEFIN, SKIPJACK, ...</td>\n",
       "      <td>3012841164</td>\n",
       "      <td>I.S.A. VALUE CO. LTD. SAMPRAN PL</td>\n",
       "      <td>44/4 PETCHAKASEM ROAD</td>\n",
       "      <td>TAMBOL YAI CHA SAMPRAN</td>\n",
       "      <td>NAKORNPHATHOM</td>\n",
       "      <td>TH</td>\n",
       "      <td>3004250039</td>\n",
       "      <td>Coppersmith Inc.</td>\n",
       "      <td>525 S Douglas St</td>\n",
       "      <td>NaN</td>\n",
       "      <td>El Segundo</td>\n",
       "      <td>CA</td>\n",
       "      <td>37.0</td>\n",
       "      <td>90245-4826</td>\n",
       "      <td>US</td>\n",
       "      <td>OASIS MPro Issued</td>\n",
       "      <td>2023/06/02 13:29:45</td>\n",
       "    </tr>\n",
       "    <tr>\n",
       "      <th>1</th>\n",
       "      <td>235-1702315-8/1231/1</td>\n",
       "      <td>2023/06/01 06:00:00</td>\n",
       "      <td>2023/05/31 00:00:00</td>\n",
       "      <td>DWCI</td>\n",
       "      <td>TH</td>\n",
       "      <td>16AEE45</td>\n",
       "      <td>TUNA (ALBACORE, YELLOWFIN, BLUEFIN, SKIPJACK, ...</td>\n",
       "      <td>1000153124</td>\n",
       "      <td>Unicord Public Company  Ltd.</td>\n",
       "      <td>56</td>\n",
       "      <td>5 Baansrimuang Road, Thasai</td>\n",
       "      <td>Muang Samut Sakhon</td>\n",
       "      <td>TH</td>\n",
       "      <td>3000205912</td>\n",
       "      <td>Clearfreight Corporation</td>\n",
       "      <td>1960 E Grand Ave Ste 700</td>\n",
       "      <td>NaN</td>\n",
       "      <td>El Segundo</td>\n",
       "      <td>CA</td>\n",
       "      <td>37.0</td>\n",
       "      <td>90245-5020</td>\n",
       "      <td>US</td>\n",
       "      <td>MPro Issued</td>\n",
       "      <td>2023/05/31 15:36:53</td>\n",
       "    </tr>\n",
       "    <tr>\n",
       "      <th>2</th>\n",
       "      <td>235-1702315-8/1221/1</td>\n",
       "      <td>2023/06/01 06:00:00</td>\n",
       "      <td>2023/05/31 00:00:00</td>\n",
       "      <td>DWCI</td>\n",
       "      <td>TH</td>\n",
       "      <td>16AEE45</td>\n",
       "      <td>TUNA (ALBACORE, YELLOWFIN, BLUEFIN, SKIPJACK, ...</td>\n",
       "      <td>1000153124</td>\n",
       "      <td>Unicord Public Company  Ltd.</td>\n",
       "      <td>56</td>\n",
       "      <td>5 Baansrimuang Road, Thasai</td>\n",
       "      <td>Muang Samut Sakhon</td>\n",
       "      <td>TH</td>\n",
       "      <td>3000205912</td>\n",
       "      <td>Clearfreight Corporation</td>\n",
       "      <td>1960 E Grand Ave Ste 700</td>\n",
       "      <td>NaN</td>\n",
       "      <td>El Segundo</td>\n",
       "      <td>CA</td>\n",
       "      <td>37.0</td>\n",
       "      <td>90245-5020</td>\n",
       "      <td>US</td>\n",
       "      <td>MPro Issued</td>\n",
       "      <td>2023/05/31 15:36:53</td>\n",
       "    </tr>\n",
       "    <tr>\n",
       "      <th>3</th>\n",
       "      <td>235-1702315-8/1211/1</td>\n",
       "      <td>2023/06/01 06:00:00</td>\n",
       "      <td>2023/05/31 00:00:00</td>\n",
       "      <td>DWCI</td>\n",
       "      <td>TH</td>\n",
       "      <td>16AEE45</td>\n",
       "      <td>TUNA (ALBACORE, YELLOWFIN, BLUEFIN, SKIPJACK, ...</td>\n",
       "      <td>1000153124</td>\n",
       "      <td>Unicord Public Company  Ltd.</td>\n",
       "      <td>56</td>\n",
       "      <td>5 Baansrimuang Road, Thasai</td>\n",
       "      <td>Muang Samut Sakhon</td>\n",
       "      <td>TH</td>\n",
       "      <td>3000205912</td>\n",
       "      <td>Clearfreight Corporation</td>\n",
       "      <td>1960 E Grand Ave Ste 700</td>\n",
       "      <td>NaN</td>\n",
       "      <td>El Segundo</td>\n",
       "      <td>CA</td>\n",
       "      <td>37.0</td>\n",
       "      <td>90245-5020</td>\n",
       "      <td>US</td>\n",
       "      <td>MPro Issued</td>\n",
       "      <td>2023/05/31 15:36:53</td>\n",
       "    </tr>\n",
       "    <tr>\n",
       "      <th>4</th>\n",
       "      <td>AEK-3529757-9/11/1</td>\n",
       "      <td>2023/05/27 00:00:00</td>\n",
       "      <td>2023/05/30 00:00:00</td>\n",
       "      <td>DSEI</td>\n",
       "      <td>JP</td>\n",
       "      <td>52AYY40</td>\n",
       "      <td>KNIVES (FOODWARE, COOKWARE &amp; TABLEWARE)</td>\n",
       "      <td>3016811715</td>\n",
       "      <td>ETSU KNIFE</td>\n",
       "      <td>23-40</td>\n",
       "      <td>Higashisenpuku-Cho</td>\n",
       "      <td>Echizen</td>\n",
       "      <td>JP</td>\n",
       "      <td>1000192129</td>\n",
       "      <td>DHL Express USA Inc</td>\n",
       "      <td>236 Wendel H Ford Blvd</td>\n",
       "      <td>NaN</td>\n",
       "      <td>Erlanger</td>\n",
       "      <td>KY</td>\n",
       "      <td>117.0</td>\n",
       "      <td>41018-1272</td>\n",
       "      <td>US</td>\n",
       "      <td>MPro Issued</td>\n",
       "      <td>2023/05/30 10:54:43</td>\n",
       "    </tr>\n",
       "  </tbody>\n",
       "</table>\n",
       "</div>"
      ],
      "text/plain": [
       "         Entry/DOC/Line         Arrival Date      Submission Date  \\\n",
       "0    224-4268585-9/21/1  2023/06/06 08:00:00  2023/06/02 00:00:00   \n",
       "1  235-1702315-8/1231/1  2023/06/01 06:00:00  2023/05/31 00:00:00   \n",
       "2  235-1702315-8/1221/1  2023/06/01 06:00:00  2023/05/31 00:00:00   \n",
       "3  235-1702315-8/1211/1  2023/06/01 06:00:00  2023/05/31 00:00:00   \n",
       "4    AEK-3529757-9/11/1  2023/05/27 00:00:00  2023/05/30 00:00:00   \n",
       "\n",
       "  Port of Entry Distrct Abrvtn Country Of Origin Product Code  \\\n",
       "0                         DWCI                TH      16AEE45   \n",
       "1                         DWCI                TH      16AEE45   \n",
       "2                         DWCI                TH      16AEE45   \n",
       "3                         DWCI                TH      16AEE45   \n",
       "4                         DSEI                JP      52AYY40   \n",
       "\n",
       "                            Product Code Description  Manufacturer FEI Number  \\\n",
       "0  TUNA (ALBACORE, YELLOWFIN, BLUEFIN, SKIPJACK, ...               3012841164   \n",
       "1  TUNA (ALBACORE, YELLOWFIN, BLUEFIN, SKIPJACK, ...               1000153124   \n",
       "2  TUNA (ALBACORE, YELLOWFIN, BLUEFIN, SKIPJACK, ...               1000153124   \n",
       "3  TUNA (ALBACORE, YELLOWFIN, BLUEFIN, SKIPJACK, ...               1000153124   \n",
       "4            KNIVES (FOODWARE, COOKWARE & TABLEWARE)               3016811715   \n",
       "\n",
       "            Manufacturer Legal Name Manufacturer Line1 Address  \\\n",
       "0  I.S.A. VALUE CO. LTD. SAMPRAN PL      44/4 PETCHAKASEM ROAD   \n",
       "1      Unicord Public Company  Ltd.                         56   \n",
       "2      Unicord Public Company  Ltd.                         56   \n",
       "3      Unicord Public Company  Ltd.                         56   \n",
       "4                        ETSU KNIFE                      23-40   \n",
       "\n",
       "    Manufacturer Line2 Address Manufacturer City Name  \\\n",
       "0       TAMBOL YAI CHA SAMPRAN          NAKORNPHATHOM   \n",
       "1  5 Baansrimuang Road, Thasai     Muang Samut Sakhon   \n",
       "2  5 Baansrimuang Road, Thasai     Muang Samut Sakhon   \n",
       "3  5 Baansrimuang Road, Thasai     Muang Samut Sakhon   \n",
       "4           Higashisenpuku-Cho                Echizen   \n",
       "\n",
       "  Manufacturer ISO Country Code  Filer FEI Number          Filer Legal Name  \\\n",
       "0                            TH        3004250039          Coppersmith Inc.   \n",
       "1                            TH        3000205912  Clearfreight Corporation   \n",
       "2                            TH        3000205912  Clearfreight Corporation   \n",
       "3                            TH        3000205912  Clearfreight Corporation   \n",
       "4                            JP        1000192129       DHL Express USA Inc   \n",
       "\n",
       "        Filer Line1 Address Filer Line2 Address Filer City Name  \\\n",
       "0          525 S Douglas St                 NaN      El Segundo   \n",
       "1  1960 E Grand Ave Ste 700                 NaN      El Segundo   \n",
       "2  1960 E Grand Ave Ste 700                 NaN      El Segundo   \n",
       "3  1960 E Grand Ave Ste 700                 NaN      El Segundo   \n",
       "4    236 Wendel H Ford Blvd                 NaN        Erlanger   \n",
       "\n",
       "  Filer State Code  Filer County Code Filer Zip Code Filer ISO Country Code  \\\n",
       "0               CA               37.0     90245-4826                     US   \n",
       "1               CA               37.0     90245-5020                     US   \n",
       "2               CA               37.0     90245-5020                     US   \n",
       "3               CA               37.0     90245-5020                     US   \n",
       "4               KY              117.0     41018-1272                     US   \n",
       "\n",
       "  Final Disposition Activity Description Final Disposition Activity Date  \n",
       "0                      OASIS MPro Issued             2023/06/02 13:29:45  \n",
       "1                            MPro Issued             2023/05/31 15:36:53  \n",
       "2                            MPro Issued             2023/05/31 15:36:53  \n",
       "3                            MPro Issued             2023/05/31 15:36:53  \n",
       "4                            MPro Issued             2023/05/30 10:54:43  "
      ]
     },
     "execution_count": 14,
     "metadata": {},
     "output_type": "execute_result"
    }
   ],
   "source": [
    "final_dataframe.head()"
   ]
  },
  {
   "cell_type": "code",
   "execution_count": 15,
   "id": "96b799c1",
   "metadata": {},
   "outputs": [
    {
     "name": "stdout",
     "output_type": "stream",
     "text": [
      "<class 'pandas.core.frame.DataFrame'>\n",
      "RangeIndex: 3925791 entries, 0 to 3925790\n",
      "Data columns (total 24 columns):\n",
      " #   Column                                  Dtype  \n",
      "---  ------                                  -----  \n",
      " 0   Entry/DOC/Line                          object \n",
      " 1   Arrival Date                            object \n",
      " 2   Submission Date                         object \n",
      " 3   Port of Entry Distrct Abrvtn            object \n",
      " 4   Country Of Origin                       object \n",
      " 5   Product Code                            object \n",
      " 6   Product Code Description                object \n",
      " 7   Manufacturer FEI Number                 int64  \n",
      " 8   Manufacturer Legal Name                 object \n",
      " 9   Manufacturer Line1 Address              object \n",
      " 10  Manufacturer Line2 Address              object \n",
      " 11  Manufacturer City Name                  object \n",
      " 12  Manufacturer ISO Country Code           object \n",
      " 13  Filer FEI Number                        int64  \n",
      " 14  Filer Legal Name                        object \n",
      " 15  Filer Line1 Address                     object \n",
      " 16  Filer Line2 Address                     object \n",
      " 17  Filer City Name                         object \n",
      " 18  Filer State Code                        object \n",
      " 19  Filer County Code                       float64\n",
      " 20  Filer Zip Code                          object \n",
      " 21  Filer ISO Country Code                  object \n",
      " 22  Final Disposition Activity Description  object \n",
      " 23  Final Disposition Activity Date         object \n",
      "dtypes: float64(1), int64(2), object(21)\n",
      "memory usage: 718.8+ MB\n"
     ]
    }
   ],
   "source": [
    "final_dataframe.info()"
   ]
  },
  {
   "cell_type": "code",
   "execution_count": 16,
   "id": "6bbc1b9a",
   "metadata": {},
   "outputs": [
    {
     "data": {
      "text/plain": [
       "Entry/DOC/Line                                  0\n",
       "Arrival Date                                    0\n",
       "Submission Date                                 0\n",
       "Port of Entry Distrct Abrvtn                    0\n",
       "Country Of Origin                               5\n",
       "Product Code                                    0\n",
       "Product Code Description                        0\n",
       "Manufacturer FEI Number                         0\n",
       "Manufacturer Legal Name                         0\n",
       "Manufacturer Line1 Address                   1760\n",
       "Manufacturer Line2 Address                2200766\n",
       "Manufacturer City Name                         75\n",
       "Manufacturer ISO Country Code                   4\n",
       "Filer FEI Number                                0\n",
       "Filer Legal Name                                0\n",
       "Filer Line1 Address                          1573\n",
       "Filer Line2 Address                       3382975\n",
       "Filer City Name                              1573\n",
       "Filer State Code                             1573\n",
       "Filer County Code                            1873\n",
       "Filer Zip Code                               1573\n",
       "Filer ISO Country Code                          0\n",
       "Final Disposition Activity Description          0\n",
       "Final Disposition Activity Date                 0\n",
       "dtype: int64"
      ]
     },
     "execution_count": 16,
     "metadata": {},
     "output_type": "execute_result"
    }
   ],
   "source": [
    "final_dataframe.isnull().sum()"
   ]
  },
  {
   "cell_type": "code",
   "execution_count": 17,
   "id": "af78e4b1",
   "metadata": {},
   "outputs": [
    {
     "data": {
      "text/plain": [
       "Entry/DOC/Line                            3925454\n",
       "Arrival Date                                39497\n",
       "Submission Date                               217\n",
       "Port of Entry Distrct Abrvtn                    5\n",
       "Country Of Origin                             197\n",
       "Product Code                                36338\n",
       "Product Code Description                     9889\n",
       "Manufacturer FEI Number                    128592\n",
       "Manufacturer Legal Name                    122612\n",
       "Manufacturer Line1 Address                 120151\n",
       "Manufacturer Line2 Address                  39042\n",
       "Manufacturer City Name                      34487\n",
       "Manufacturer ISO Country Code                 196\n",
       "Filer FEI Number                             2885\n",
       "Filer Legal Name                             2559\n",
       "Filer Line1 Address                          2814\n",
       "Filer Line2 Address                           365\n",
       "Filer City Name                               687\n",
       "Filer State Code                               49\n",
       "Filer County Code                             101\n",
       "Filer Zip Code                               2628\n",
       "Filer ISO Country Code                          2\n",
       "Final Disposition Activity Description         15\n",
       "Final Disposition Activity Date            254036\n",
       "dtype: int64"
      ]
     },
     "execution_count": 17,
     "metadata": {},
     "output_type": "execute_result"
    }
   ],
   "source": [
    "final_dataframe.nunique()"
   ]
  },
  {
   "cell_type": "code",
   "execution_count": 18,
   "id": "ce8d0467",
   "metadata": {},
   "outputs": [
    {
     "data": {
      "text/plain": [
       "array(['TH', 'JP', 'CN', 'KR', 'IE', 'MY', 'EC', 'US', 'MX', 'CO', 'GB',\n",
       "       'PL', 'CA', 'IN', 'PT', 'TR', 'PA', 'PH', 'ES', 'VN', 'CL', 'RU',\n",
       "       'IT', 'DE', 'DO', 'EE', 'FR', 'NZ', 'NL', 'TW', 'PE', 'ID', 'HN',\n",
       "       'SE', 'ZA', 'PF', 'BG', 'BR', 'NG', 'CR', 'GT', 'AL', 'RS', 'SG',\n",
       "       'AT', 'IL', 'SV', 'BE', 'MU', 'HK', 'EG', 'NI', 'GR', 'HU', 'KZ',\n",
       "       'SC', 'TT', 'AU', 'IS', 'AR', 'CH', 'FJ', 'CI', 'PK', 'JM', 'DK',\n",
       "       'RO', 'CZ', 'AS', 'LK', 'AM', 'NO', 'GE', 'BO', 'SK', 'LI', 'KE',\n",
       "       'LB', 'AE', 'MK', 'TZ', 'KH', 'LT', 'CV', 'GY', 'GH', 'UY', 'FI',\n",
       "       'UA', 'MH', 'JO', 'BD', 'SI', 'VE', 'IQ', 'MC', 'MA', 'SY', 'UG',\n",
       "       'TN', 'HR', 'HT', 'AZ', 'SR', 'LV', 'UZ', 'MD', 'BB', 'PY', 'CM',\n",
       "       'MN', 'GD', 'PR', 'MV', 'ET', 'SA', 'BU', 'BF', 'PG', 'FO', 'SN',\n",
       "       'MT', 'BJ', 'DZ', 'BZ', 'GU', 'BS', 'TC', 'MG', 'ZW', 'CD', 'SZ',\n",
       "       'AF', 'NP', 'ZM', 'CY', 'LC', 'YE', 'OM', 'BH', 'WE', 'KV', 'AD',\n",
       "       'LA', 'MO', 'VU', 'BY', 'SB', 'VI', 'SL', 'BA', 'MW', 'GN', 'LU',\n",
       "       'SO', 'RW', 'TO', 'TG', 'KW', 'LR', 'FK', 'GL', 'CW', 'ML', 'MZ',\n",
       "       'QA', 'ME', 'RE', 'GP', 'ST', nan, 'TK', 'AW', 'VC', 'GA', 'FM',\n",
       "       'KG', 'CG', 'BM', 'MP', 'IR', 'WS', 'DJ', 'KY', 'AG', 'SM', 'BI',\n",
       "       'VA', 'BW', 'NF', 'SD', 'KN', 'GM', 'MQ', 'HM', 'SX', 'KM', 'LS'],\n",
       "      dtype=object)"
      ]
     },
     "execution_count": 18,
     "metadata": {},
     "output_type": "execute_result"
    }
   ],
   "source": [
    "final_dataframe['Country Of Origin'].unique()"
   ]
  },
  {
   "cell_type": "code",
   "execution_count": 19,
   "id": "7e735a92",
   "metadata": {},
   "outputs": [
    {
     "data": {
      "text/plain": [
       "(3925791, 24)"
      ]
     },
     "execution_count": 19,
     "metadata": {},
     "output_type": "execute_result"
    }
   ],
   "source": [
    "final_dataframe.shape"
   ]
  },
  {
   "cell_type": "code",
   "execution_count": 20,
   "id": "b7549edd",
   "metadata": {},
   "outputs": [],
   "source": [
    "specific_column = 'Country Of Origin'\n",
    "final_dataframe.dropna(subset=[specific_column], inplace=True)"
   ]
  },
  {
   "cell_type": "code",
   "execution_count": 21,
   "id": "86c05ab4",
   "metadata": {},
   "outputs": [
    {
     "data": {
      "text/plain": [
       "(3925786, 24)"
      ]
     },
     "execution_count": 21,
     "metadata": {},
     "output_type": "execute_result"
    }
   ],
   "source": [
    "final_dataframe.shape"
   ]
  },
  {
   "cell_type": "code",
   "execution_count": 23,
   "id": "6810dfa8",
   "metadata": {},
   "outputs": [
    {
     "data": {
      "image/png": "[encoded data removed]",
      "text/plain": [
       "<Figure size 640x480 with 1 Axes>"
      ]
     },
     "metadata": {},
     "output_type": "display_data"
    }
   ],
   "source": [
    "top_categories = final_dataframe['Country Of Origin'].value_counts().head(5)\n",
    "\n",
    "# Create a countplot for the top 5 values\n",
    "sns.countplot(x='Country Of Origin', data=final_dataframe, order=top_categories.index)\n",
    "\n",
    "plt.show()"
   ]
  },
  {
   "cell_type": "code",
   "execution_count": null,
   "metadata": {},
   "outputs": [],
   "source": []
  }
 ],
 "metadata": {
  "kernelspec": {
   "display_name": "Python 3 (ipykernel)",
   "language": "python",
   "name": "python3"
  },
  "language_info": {
   "codemirror_mode": {
    "name": "ipython",
    "version": 3
   },
   "file_extension": ".py",
   "mimetype": "text/x-python",
   "name": "python",
   "nbconvert_exporter": "python",
   "pygments_lexer": "ipython3",
   "version": "3.11.5"
  }
 },
 "nbformat": 4,
 "nbformat_minor": 5
}
